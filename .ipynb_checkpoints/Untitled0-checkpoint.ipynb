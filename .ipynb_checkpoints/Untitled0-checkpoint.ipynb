{
 "cells": [
  {
   "cell_type": "code",
   "execution_count": 1,
   "metadata": {
    "colab": {
     "background_save": true
    },
    "id": "0tFLmYLTNazZ"
   },
   "outputs": [],
   "source": [
    "import numpy as np # linear algebra\n",
    "import pandas as pd # data processing, CSV file I/O (e.g. pd.read_csv)"
   ]
  },
  {
   "cell_type": "code",
   "execution_count": 2,
   "metadata": {
    "id": "ybo4hpyyMIrB"
   },
   "outputs": [],
   "source": [
    "# Loading Dataset\n",
    "df = pd.read_csv('IMDB Dataset.csv')\n",
    "df = df.sample(50000)"
   ]
  },
  {
   "cell_type": "code",
   "execution_count": 3,
   "metadata": {
    "colab": {
     "base_uri": "https://localhost:8080/",
     "height": 206
    },
    "id": "yPb-H25pMI_G",
    "outputId": "72c1c783-4f09-49c3-9c4f-f273f497a9f7"
   },
   "outputs": [
    {
     "data": {
      "text/html": [
       "<div>\n",
       "<style scoped>\n",
       "    .dataframe tbody tr th:only-of-type {\n",
       "        vertical-align: middle;\n",
       "    }\n",
       "\n",
       "    .dataframe tbody tr th {\n",
       "        vertical-align: top;\n",
       "    }\n",
       "\n",
       "    .dataframe thead th {\n",
       "        text-align: right;\n",
       "    }\n",
       "</style>\n",
       "<table border=\"1\" class=\"dataframe\">\n",
       "  <thead>\n",
       "    <tr style=\"text-align: right;\">\n",
       "      <th></th>\n",
       "      <th>review</th>\n",
       "      <th>sentiment</th>\n",
       "    </tr>\n",
       "  </thead>\n",
       "  <tbody>\n",
       "    <tr>\n",
       "      <th>18256</th>\n",
       "      <td>okay, my question; who's the idiot that wrote ...</td>\n",
       "      <td>negative</td>\n",
       "    </tr>\n",
       "    <tr>\n",
       "      <th>45850</th>\n",
       "      <td>World At War is perhaps the greatest documenta...</td>\n",
       "      <td>positive</td>\n",
       "    </tr>\n",
       "    <tr>\n",
       "      <th>36971</th>\n",
       "      <td>It was just a terrible movie. No one should wa...</td>\n",
       "      <td>negative</td>\n",
       "    </tr>\n",
       "    <tr>\n",
       "      <th>39930</th>\n",
       "      <td>I just saw this film at the phoenix film festi...</td>\n",
       "      <td>positive</td>\n",
       "    </tr>\n",
       "    <tr>\n",
       "      <th>9972</th>\n",
       "      <td>After watching this movie once, it quickly bec...</td>\n",
       "      <td>positive</td>\n",
       "    </tr>\n",
       "  </tbody>\n",
       "</table>\n",
       "</div>"
      ],
      "text/plain": [
       "                                                  review sentiment\n",
       "18256  okay, my question; who's the idiot that wrote ...  negative\n",
       "45850  World At War is perhaps the greatest documenta...  positive\n",
       "36971  It was just a terrible movie. No one should wa...  negative\n",
       "39930  I just saw this film at the phoenix film festi...  positive\n",
       "9972   After watching this movie once, it quickly bec...  positive"
      ]
     },
     "execution_count": 3,
     "metadata": {},
     "output_type": "execute_result"
    }
   ],
   "source": [
    "df.head()"
   ]
  },
  {
   "cell_type": "code",
   "execution_count": 4,
   "metadata": {
    "id": "NVJzyzHXMJIp"
   },
   "outputs": [],
   "source": [
    "# df['review'][0]"
   ]
  },
  {
   "cell_type": "markdown",
   "metadata": {
    "id": "MZssrLpEMgum"
   },
   "source": [
    "Text Cleaning:\n",
    "- Removing HTML tags\n",
    "- Removing speacial characters\n",
    "- Converting uppercase to lowercase\n",
    "- removing Stop words (e.g., and, is, the, etc)\n",
    "- Stemming words (i.e., words like play, playing and played are grouped as one)"
   ]
  },
  {
   "cell_type": "code",
   "execution_count": 6,
   "metadata": {
    "colab": {
     "base_uri": "https://localhost:8080/"
    },
    "id": "VxnKfKWNMln1",
    "outputId": "8719fef0-9dde-440c-de1d-d8e87b2b650d"
   },
   "outputs": [
    {
     "data": {
      "text/plain": [
       "(50000, 2)"
      ]
     },
     "execution_count": 6,
     "metadata": {},
     "output_type": "execute_result"
    }
   ],
   "source": [
    "df.shape"
   ]
  },
  {
   "cell_type": "code",
   "execution_count": 7,
   "metadata": {
    "colab": {
     "base_uri": "https://localhost:8080/"
    },
    "id": "P47oEwRoMrKH",
    "outputId": "51708eb1-38b3-4d87-9cb5-9ef64ac983bf"
   },
   "outputs": [
    {
     "name": "stdout",
     "output_type": "stream",
     "text": [
      "<class 'pandas.core.frame.DataFrame'>\n",
      "Index: 50000 entries, 18256 to 38219\n",
      "Data columns (total 2 columns):\n",
      " #   Column     Non-Null Count  Dtype \n",
      "---  ------     --------------  ----- \n",
      " 0   review     50000 non-null  object\n",
      " 1   sentiment  50000 non-null  object\n",
      "dtypes: object(2)\n",
      "memory usage: 1.1+ MB\n"
     ]
    }
   ],
   "source": [
    "df.info()"
   ]
  },
  {
   "cell_type": "code",
   "execution_count": 8,
   "metadata": {
    "id": "urTyRU_EMc02"
   },
   "outputs": [],
   "source": [
    "df.sentiment.replace('positive', 1, inplace=True)\n",
    "df.sentiment.replace('negative', 0, inplace=True)"
   ]
  },
  {
   "cell_type": "code",
   "execution_count": 9,
   "metadata": {
    "colab": {
     "base_uri": "https://localhost:8080/",
     "height": 206
    },
    "id": "6bxij6ATMJNr",
    "outputId": "8a7fb0ca-1ded-4486-ac2a-b65097c33dae"
   },
   "outputs": [
    {
     "data": {
      "text/html": [
       "<div>\n",
       "<style scoped>\n",
       "    .dataframe tbody tr th:only-of-type {\n",
       "        vertical-align: middle;\n",
       "    }\n",
       "\n",
       "    .dataframe tbody tr th {\n",
       "        vertical-align: top;\n",
       "    }\n",
       "\n",
       "    .dataframe thead th {\n",
       "        text-align: right;\n",
       "    }\n",
       "</style>\n",
       "<table border=\"1\" class=\"dataframe\">\n",
       "  <thead>\n",
       "    <tr style=\"text-align: right;\">\n",
       "      <th></th>\n",
       "      <th>review</th>\n",
       "      <th>sentiment</th>\n",
       "    </tr>\n",
       "  </thead>\n",
       "  <tbody>\n",
       "    <tr>\n",
       "      <th>18256</th>\n",
       "      <td>okay, my question; who's the idiot that wrote ...</td>\n",
       "      <td>0</td>\n",
       "    </tr>\n",
       "    <tr>\n",
       "      <th>45850</th>\n",
       "      <td>World At War is perhaps the greatest documenta...</td>\n",
       "      <td>1</td>\n",
       "    </tr>\n",
       "    <tr>\n",
       "      <th>36971</th>\n",
       "      <td>It was just a terrible movie. No one should wa...</td>\n",
       "      <td>0</td>\n",
       "    </tr>\n",
       "    <tr>\n",
       "      <th>39930</th>\n",
       "      <td>I just saw this film at the phoenix film festi...</td>\n",
       "      <td>1</td>\n",
       "    </tr>\n",
       "    <tr>\n",
       "      <th>9972</th>\n",
       "      <td>After watching this movie once, it quickly bec...</td>\n",
       "      <td>1</td>\n",
       "    </tr>\n",
       "  </tbody>\n",
       "</table>\n",
       "</div>"
      ],
      "text/plain": [
       "                                                  review  sentiment\n",
       "18256  okay, my question; who's the idiot that wrote ...          0\n",
       "45850  World At War is perhaps the greatest documenta...          1\n",
       "36971  It was just a terrible movie. No one should wa...          0\n",
       "39930  I just saw this film at the phoenix film festi...          1\n",
       "9972   After watching this movie once, it quickly bec...          1"
      ]
     },
     "execution_count": 9,
     "metadata": {},
     "output_type": "execute_result"
    }
   ],
   "source": [
    "df.head()"
   ]
  },
  {
   "cell_type": "code",
   "execution_count": 10,
   "metadata": {
    "id": "rjwhFtkpMJQX"
   },
   "outputs": [],
   "source": [
    "# Function to clean html tags\n",
    "import re\n",
    "def clean_html(text):\n",
    "    clean = re.compile('<.*?>')\n",
    "    return re.sub(clean, '', text)\n",
    "df.review = df.review.apply(clean_html)"
   ]
  },
  {
   "cell_type": "code",
   "execution_count": 11,
   "metadata": {
    "id": "oEzqRKPhMJTE"
   },
   "outputs": [],
   "source": [
    "def remove_special(text):\n",
    "    rem = ''\n",
    "    for i in text:\n",
    "        if i.isalnum():\n",
    "            rem = rem + i\n",
    "        else:\n",
    "            rem = rem + ' '\n",
    "    return rem\n",
    "\n",
    "df.review = df.review.apply(remove_special)"
   ]
  },
  {
   "cell_type": "code",
   "execution_count": 12,
   "metadata": {
    "id": "gJvedH34MJV1"
   },
   "outputs": [],
   "source": [
    "def to_lower(text):\n",
    "    return text.lower()\n",
    "\n",
    "df.review = df.review.apply(to_lower)"
   ]
  },
  {
   "cell_type": "code",
   "execution_count": 13,
   "metadata": {
    "id": "5f6aVBLtMJYY"
   },
   "outputs": [],
   "source": [
    "# remove the stop words\n",
    "import nltk\n",
    "from nltk.corpus import stopwords"
   ]
  },
  {
   "cell_type": "code",
   "execution_count": 14,
   "metadata": {
    "colab": {
     "base_uri": "https://localhost:8080/",
     "height": 139
    },
    "id": "t8B4-HFeMJbD",
    "outputId": "35fd5651-1e67-4e33-a906-c5c0a5db46ad"
   },
   "outputs": [
    {
     "data": {
      "text/plain": [
       "'i am a catholic taught in parochial elementary schools by nuns  taught by jesuit priests in high school   college  i am still a practicing catholic but would not be considered a  good catholic  in the church s eyes because i don t believe certain things or act certain ways just because the church tells me to so back to the movie   its bad because two people are killed by this nun who is supposed to be a satire as the embodiment of a female religious figurehead  there is no comedy in that and the satire is not done well by the over acting of diane keaton  i never saw the play but if it was very different from this movies then it may be good at first i thought the gun might be a fake and the first shooting all a plan by the female lead of the four former students as an attempt to demonstrate sister mary s emotional and intellectual bigotry of faith  but it turns out the bullets were real and the story has tragedy   the tragedy of loss of life  besides the two former students   the lives of the aborted babies  the life of the student s mom   the tragedy of dogmatic authority over love of people  the tragedy of organized religion replacing true faith in god  this is what is wrong with today s islam  and yesterday s judaism and christianity '"
      ]
     },
     "execution_count": 14,
     "metadata": {},
     "output_type": "execute_result"
    }
   ],
   "source": [
    "df['review'][49997]"
   ]
  },
  {
   "cell_type": "code",
   "execution_count": 15,
   "metadata": {
    "colab": {
     "base_uri": "https://localhost:8080/"
    },
    "id": "eBkdjz64MJdr",
    "outputId": "3578115e-d7e8-4f99-c43a-329940a2f616"
   },
   "outputs": [
    {
     "name": "stderr",
     "output_type": "stream",
     "text": [
      "[nltk_data] Downloading package stopwords to\n",
      "[nltk_data]     C:\\Users\\igmsp\\AppData\\Roaming\\nltk_data...\n",
      "[nltk_data]   Unzipping corpora\\stopwords.zip.\n",
      "[nltk_data] Downloading package punkt to\n",
      "[nltk_data]     C:\\Users\\igmsp\\AppData\\Roaming\\nltk_data...\n",
      "[nltk_data]   Unzipping tokenizers\\punkt.zip.\n"
     ]
    }
   ],
   "source": [
    "import nltk\n",
    "from nltk.corpus import stopwords\n",
    "from nltk.tokenize import word_tokenize\n",
    "nltk.download('stopwords')\n",
    "nltk.download('punkt')\n",
    "\n",
    "def remove_stopwords(text):\n",
    "    stop_words = set(stopwords.words('english'))\n",
    "    words = word_tokenize(text)\n",
    "    return [w for w in words if w not in stop_words]\n",
    "\n",
    "df.review = df.review.apply(remove_stopwords)"
   ]
  },
  {
   "cell_type": "code",
   "execution_count": 16,
   "metadata": {
    "colab": {
     "base_uri": "https://localhost:8080/",
     "height": 206
    },
    "id": "-z9U9SJvMJgO",
    "outputId": "2e2ae052-a4bc-484a-9c28-86f347e08379"
   },
   "outputs": [
    {
     "data": {
      "text/html": [
       "<div>\n",
       "<style scoped>\n",
       "    .dataframe tbody tr th:only-of-type {\n",
       "        vertical-align: middle;\n",
       "    }\n",
       "\n",
       "    .dataframe tbody tr th {\n",
       "        vertical-align: top;\n",
       "    }\n",
       "\n",
       "    .dataframe thead th {\n",
       "        text-align: right;\n",
       "    }\n",
       "</style>\n",
       "<table border=\"1\" class=\"dataframe\">\n",
       "  <thead>\n",
       "    <tr style=\"text-align: right;\">\n",
       "      <th></th>\n",
       "      <th>review</th>\n",
       "      <th>sentiment</th>\n",
       "    </tr>\n",
       "  </thead>\n",
       "  <tbody>\n",
       "    <tr>\n",
       "      <th>18256</th>\n",
       "      <td>[okay, question, idiot, wrote, movie, giving, ...</td>\n",
       "      <td>0</td>\n",
       "    </tr>\n",
       "    <tr>\n",
       "      <th>45850</th>\n",
       "      <td>[world, war, perhaps, greatest, documentary, s...</td>\n",
       "      <td>1</td>\n",
       "    </tr>\n",
       "    <tr>\n",
       "      <th>36971</th>\n",
       "      <td>[terrible, movie, one, waste, time, go, see, s...</td>\n",
       "      <td>0</td>\n",
       "    </tr>\n",
       "    <tr>\n",
       "      <th>39930</th>\n",
       "      <td>[saw, film, phoenix, film, festival, today, lo...</td>\n",
       "      <td>1</td>\n",
       "    </tr>\n",
       "    <tr>\n",
       "      <th>9972</th>\n",
       "      <td>[watching, movie, quickly, became, one, favori...</td>\n",
       "      <td>1</td>\n",
       "    </tr>\n",
       "  </tbody>\n",
       "</table>\n",
       "</div>"
      ],
      "text/plain": [
       "                                                  review  sentiment\n",
       "18256  [okay, question, idiot, wrote, movie, giving, ...          0\n",
       "45850  [world, war, perhaps, greatest, documentary, s...          1\n",
       "36971  [terrible, movie, one, waste, time, go, see, s...          0\n",
       "39930  [saw, film, phoenix, film, festival, today, lo...          1\n",
       "9972   [watching, movie, quickly, became, one, favori...          1"
      ]
     },
     "execution_count": 16,
     "metadata": {},
     "output_type": "execute_result"
    }
   ],
   "source": [
    "df.head()"
   ]
  },
  {
   "cell_type": "code",
   "execution_count": 17,
   "metadata": {
    "id": "Gw_5Y3YqMJi4"
   },
   "outputs": [],
   "source": [
    "# Perform stemming\n",
    "from nltk.stem.porter import PorterStemmer\n",
    "ps = PorterStemmer()"
   ]
  },
  {
   "cell_type": "code",
   "execution_count": 18,
   "metadata": {
    "colab": {
     "base_uri": "https://localhost:8080/"
    },
    "id": "x9TGgr_aMJlX",
    "outputId": "01f79088-8b47-479b-ac62-9e5b30ad0d81"
   },
   "outputs": [
    {
     "data": {
      "text/plain": [
       "['i', 'love', 'love', 'it']"
      ]
     },
     "execution_count": 18,
     "metadata": {},
     "output_type": "execute_result"
    }
   ],
   "source": [
    "y = []\n",
    "def stem_words(text):\n",
    "    for i in text:\n",
    "        y.append(ps.stem(i))\n",
    "    z = y[:]\n",
    "    y.clear()\n",
    "    return z\n",
    "\n",
    "stem_words(['I','loved','loving','it'])"
   ]
  },
  {
   "cell_type": "code",
   "execution_count": 19,
   "metadata": {
    "id": "vdwW5PxnMJpA"
   },
   "outputs": [],
   "source": [
    "df.review = df.review.apply(stem_words)"
   ]
  },
  {
   "cell_type": "code",
   "execution_count": 20,
   "metadata": {
    "id": "xlgo0oxaNVju"
   },
   "outputs": [],
   "source": [
    "# join back\n",
    "def join_back(list_input):\n",
    "    return \" \".join(list_input)\n",
    "\n",
    "df.review = df.review.apply(join_back)"
   ]
  },
  {
   "cell_type": "code",
   "execution_count": 21,
   "metadata": {
    "colab": {
     "base_uri": "https://localhost:8080/",
     "height": 458
    },
    "id": "ngGfcUIANYYZ",
    "outputId": "b474f1ff-1ad7-4137-f8d4-18bc918138e7"
   },
   "outputs": [
    {
     "data": {
      "text/plain": [
       "18256    okay question idiot wrote movi give name dean ...\n",
       "45850    world war perhap greatest documentari seri tim...\n",
       "36971    terribl movi one wast time go see someth els m...\n",
       "39930    saw film phoenix film festiv today love synops...\n",
       "9972     watch movi quickli becam one favorit differ ev...\n",
       "                               ...                        \n",
       "26311    american movi war nazi simpli good refrain bec...\n",
       "36925    okay sound one like tremend mental gimp sat fi...\n",
       "15726    movi one longest movi watch experi life like d...\n",
       "43933    huge jane austen fan order movi amazon uk coul...\n",
       "38219    mani peopl know mexican cinema poor call golde...\n",
       "Name: review, Length: 50000, dtype: object"
      ]
     },
     "execution_count": 21,
     "metadata": {},
     "output_type": "execute_result"
    }
   ],
   "source": [
    "df.review"
   ]
  },
  {
   "cell_type": "code",
   "execution_count": 378,
   "metadata": {
    "id": "qRomVL78NYbK"
   },
   "outputs": [],
   "source": [
    "from sklearn.feature_extraction.text import CountVectorizer\n",
    "cv = CountVectorizer(max_features = 6500)\n",
    "# max_feature = 10000 will choose the first 10000 most used words and make them part of ur analysis"
   ]
  },
  {
   "cell_type": "code",
   "execution_count": 379,
   "metadata": {
    "id": "wPnifPYUNYef"
   },
   "outputs": [
    {
     "data": {
      "text/plain": [
       "(50000, 6500)"
      ]
     },
     "execution_count": 379,
     "metadata": {},
     "output_type": "execute_result"
    }
   ],
   "source": [
    "X = cv.fit_transform(df.review).toarray()\n",
    "X.shape # A 2D array where each inner array represents a review and each word represents"
   ]
  },
  {
   "cell_type": "code",
   "execution_count": 380,
   "metadata": {
    "id": "01m7YTSHNYkN"
   },
   "outputs": [],
   "source": [
    "# X = pd.DataFrame(X)\n",
    "# X.head()\n",
    "# #converting datatype of each column to achieve memory efficiency\n",
    "# def convert_int64_to_int32(df):\n",
    "#     # Iterate through each column\n",
    "#     for col in df.columns:\n",
    "#         if df[col].dtype == 'int64':  # Check if the column's data type is int64\n",
    "#             df[col] = df[col].astype('int32')  # Convert to int32\n",
    "#     return df\n",
    "\n",
    "# X = convert_int64_to_int32(X)\n",
    "\n",
    "# X.dtypes"
   ]
  },
  {
   "cell_type": "code",
   "execution_count": 381,
   "metadata": {
    "id": "rV2EPxSPNYnW"
   },
   "outputs": [],
   "source": [
    "y = df.iloc[:,-1].values"
   ]
  },
  {
   "cell_type": "code",
   "execution_count": 382,
   "metadata": {
    "id": "XtxmxB3VNi_F"
   },
   "outputs": [
    {
     "data": {
      "text/plain": [
       "(50000,)"
      ]
     },
     "execution_count": 382,
     "metadata": {},
     "output_type": "execute_result"
    }
   ],
   "source": [
    "# y = pd.DataFrame(y)\n",
    "y.shape"
   ]
  },
  {
   "cell_type": "code",
   "execution_count": 383,
   "metadata": {
    "id": "rd650tkDNjG5"
   },
   "outputs": [],
   "source": [
    "# splitting training and test set\n",
    "from sklearn.model_selection import train_test_split\n",
    "X_train, X_test, y_train, y_test = train_test_split(X,y,test_size=0.2, random_state=9)"
   ]
  },
  {
   "cell_type": "code",
   "execution_count": 384,
   "metadata": {
    "id": "Zbr-0YnzNnzA"
   },
   "outputs": [],
   "source": [
    "from sklearn.naive_bayes import GaussianNB, MultinomialNB, BernoulliNB"
   ]
  },
  {
   "cell_type": "code",
   "execution_count": 385,
   "metadata": {
    "id": "Jz6XJPlnNown"
   },
   "outputs": [],
   "source": [
    "clf1 = GaussianNB()\n",
    "clf2 = MultinomialNB()\n",
    "clf3 = BernoulliNB()"
   ]
  },
  {
   "cell_type": "code",
   "execution_count": null,
   "metadata": {
    "id": "aeoisboYNrjm"
   },
   "outputs": [],
   "source": [
    "clf1.fit(X_train, y_train)\n",
    "clf2.fit(X_train, y_train)\n",
    "clf3.fit(X_train, y_train)"
   ]
  },
  {
   "cell_type": "code",
   "execution_count": null,
   "metadata": {
    "id": "03VXQkrnNyfj"
   },
   "outputs": [],
   "source": [
    "y_pred1 = clf1.predict(X_test)\n",
    "y_pred2 = clf2.predict(X_test)\n",
    "y_pred3 = clf3.predict(X_test)"
   ]
  },
  {
   "cell_type": "code",
   "execution_count": null,
   "metadata": {},
   "outputs": [],
   "source": [
    "from sklearn.metrics import accuracy_score\n",
    "print(\"Gaussian: {}%\".format(accuracy_score(y_test, y_pred1)*100))\n",
    "print(\"Multinomial: {}%\".format(accuracy_score(y_test, y_pred2)*100))\n",
    "print(\"Bernaulli: {}%\".format(accuracy_score(y_test, y_pred3)*100))"
   ]
  },
  {
   "cell_type": "code",
   "execution_count": null,
   "metadata": {},
   "outputs": [],
   "source": [
    "from sklearn.feature_extraction.text import CountVectorizer\n",
    "from sklearn.model_selection import train_test_split\n",
    "from sklearn.naive_bayes import GaussianNB, MultinomialNB, BernoulliNB\n",
    "\n",
    "cv = CountVectorizer(max_features = 7000)\n",
    "# max_feature = 10000 will choose the first 10000 most used words and make them part of ur analysis\n",
    "X = cv.fit_transform(df.review).toarray()\n",
    "X.shape # A 2D array where each inner array represents a review and each word represents\n",
    "y = df.iloc[:,-1].values\n",
    "# y = pd.DataFrame(y)\n",
    "y.shape\n",
    "# splitting training and test set\n",
    "X_train, X_test, y_train, y_test = train_test_split(X,y,test_size=0.2, random_state=9)\n",
    "clf1 = GaussianNB()\n",
    "clf2 = MultinomialNB()\n",
    "clf3 = BernoulliNB()"
   ]
  }
 ],
 "metadata": {
  "accelerator": "GPU",
  "colab": {
   "gpuType": "T4",
   "provenance": []
  },
  "kernelspec": {
   "display_name": "Python 3 (ipykernel)",
   "language": "python",
   "name": "python3"
  },
  "language_info": {
   "codemirror_mode": {
    "name": "ipython",
    "version": 3
   },
   "file_extension": ".py",
   "mimetype": "text/x-python",
   "name": "python",
   "nbconvert_exporter": "python",
   "pygments_lexer": "ipython3",
   "version": "3.11.7"
  }
 },
 "nbformat": 4,
 "nbformat_minor": 4
}
